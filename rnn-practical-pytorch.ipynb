{
 "cells": [
  {
   "cell_type": "code",
   "execution_count": 1,
   "id": "ce6f2c49",
   "metadata": {},
   "outputs": [
    {
     "name": "stderr",
     "output_type": "stream",
     "text": [
      "/home/student/anaconda3/envs/practical_rl/lib/python3.9/site-packages/tqdm/auto.py:22: TqdmWarning: IProgress not found. Please update jupyter and ipywidgets. See https://ipywidgets.readthedocs.io/en/stable/user_install.html\n",
      "  from .autonotebook import tqdm as notebook_tqdm\n"
     ]
    },
    {
     "data": {
      "text/plain": [
       "<torch._C.Generator at 0x7f946e4e94b0>"
      ]
     },
     "execution_count": 1,
     "metadata": {},
     "output_type": "execute_result"
    }
   ],
   "source": [
    "import numpy as np\n",
    "import pandas as pd\n",
    "import matplotlib.pyplot as plt\n",
    "import warnings\n",
    "from IPython.display import clear_output\n",
    "import pickle\n",
    "\n",
    "import torch\n",
    "import torch.nn as nn\n",
    "import torch.nn.functional as F\n",
    "import torch.optim as optim\n",
    "\n",
    "%matplotlib inline\n",
    "warnings.simplefilter(action='ignore', category=FutureWarning)\n",
    "torch.manual_seed(1)\n"
   ]
  },
  {
   "cell_type": "code",
   "execution_count": 2,
   "id": "c8cc2741",
   "metadata": {},
   "outputs": [],
   "source": [
    "data = pd.read_pickle('train_data.pkl')\n",
    "with open('letter_id_dict.pkl', 'rb') as f:\n",
    "    letter_to_id = pickle.load(f)\n",
    "vocab_size = len(letter_to_id)"
   ]
  },
  {
   "cell_type": "code",
   "execution_count": 3,
   "id": "de1d23d4",
   "metadata": {},
   "outputs": [],
   "source": [
    "all_categories = np.unique(data.strength)\n",
    "n_categories = len(all_categories)"
   ]
  },
  {
   "cell_type": "code",
   "execution_count": 67,
   "id": "52745a99",
   "metadata": {},
   "outputs": [],
   "source": [
    "def to_matrix(lines, max_len=None, pad=letter_to_id['<pad>'], dtype='int32', batch_first = True):\n",
    "    \"\"\"Casts a list of names into rnn-digestable matrix\"\"\"\n",
    "    \n",
    "    max_len = max_len or max(map(len, lines))\n",
    "    lines_ix = np.zeros([len(lines), max_len], dtype) + pad\n",
    "\n",
    "    for i in range(len(lines)):\n",
    "        line_ix = [letter_to_id.get(c, '<unknown>') for c in lines[i]]\n",
    "        lines_ix[i, :len(line_ix)] = line_ix\n",
    "        \n",
    "    if not batch_first: # [batch, time] -> [time, batch]\n",
    "        lines_ix = np.transpose(lines_ix)\n",
    "\n",
    "    return lines_ix"
   ]
  },
  {
   "cell_type": "code",
   "execution_count": 68,
   "id": "c2dae393",
   "metadata": {},
   "outputs": [
    {
     "data": {
      "text/plain": [
       "(3, 12)"
      ]
     },
     "execution_count": 68,
     "metadata": {},
     "output_type": "execute_result"
    }
   ],
   "source": [
    "to_matrix(data.password.sample(3).values).shape"
   ]
  },
  {
   "cell_type": "code",
   "execution_count": 4,
   "id": "8a0128e0",
   "metadata": {},
   "outputs": [],
   "source": [
    "EMBEDDING_DIM = 8\n",
    "HIDDEN_DIM =18\n",
    "\n",
    "class Net(nn.Module):\n",
    "\n",
    "    def __init__(self, embedding_dim, hidden_dim, vocab_size, tagset_size):\n",
    "        super(Net, self).__init__()\n",
    "        self.hidden_dim = hidden_dim\n",
    "\n",
    "        self.char_embeddings = nn.Embedding(vocab_size, embedding_dim)\n",
    "\n",
    "        self.lstm = nn.LSTM(embedding_dim, hidden_dim, batch_first=True)\n",
    "\n",
    "        self.hidden2strength = nn.Linear(hidden_dim, tagset_size)\n",
    "\n",
    "    def forward(self, sentence):\n",
    "        embeds = self.char_embeddings(sentence)\n",
    "        _, (hidden, cell_state) = self.lstm(embeds)\n",
    "        hidden = torch.squeeze(hidden, dim=0)\n",
    "        strength_space = self.hidden2strength(hidden)\n",
    "        strength_scores = F.log_softmax(strength_space, dim=1)\n",
    "        return strength_scores"
   ]
  },
  {
   "cell_type": "code",
   "execution_count": 5,
   "id": "d24d5296",
   "metadata": {},
   "outputs": [
    {
     "data": {
      "text/plain": [
       "device(type='cpu')"
      ]
     },
     "execution_count": 5,
     "metadata": {},
     "output_type": "execute_result"
    }
   ],
   "source": [
    "device = torch.device('cuda' if torch.cuda.is_available() else 'cpu')\n",
    "device"
   ]
  },
  {
   "cell_type": "code",
   "execution_count": 6,
   "id": "096a85d1",
   "metadata": {},
   "outputs": [],
   "source": [
    "model = Net(EMBEDDING_DIM, HIDDEN_DIM, vocab_size, n_categories)\n",
    "loss_function = nn.NLLLoss()\n",
    "optimizer = optim.SGD(model.parameters(), lr=0.1)\n",
    "\n",
    "batch_size=256\n",
    "history = []"
   ]
  },
  {
   "cell_type": "code",
   "execution_count": 12,
   "id": "80c1eb47",
   "metadata": {},
   "outputs": [
    {
     "name": "stdout",
     "output_type": "stream",
     "text": [
      "Parameter containing:\n",
      "tensor([[-1.5256, -0.7502, -0.6540,  ..., -0.6092, -0.9798, -1.6091],\n",
      "        [-0.7121,  0.3037, -0.7773,  ...,  1.6871,  0.2284,  0.4676],\n",
      "        [-0.6970, -1.1608,  0.6995,  ...,  0.2444, -0.6629,  0.8073],\n",
      "        ...,\n",
      "        [-1.0513, -2.5594, -0.3417,  ..., -2.3133,  2.2064,  0.6002],\n",
      "        [-0.1766,  0.7251, -3.1347,  ..., -0.5670, -0.8304, -0.1374],\n",
      "        [-0.6559, -0.8903,  1.7062,  ...,  0.1406, -1.8038, -1.3119]],\n",
      "       requires_grad=True)\n",
      "Parameter containing:\n",
      "tensor([[-0.1172, -0.0928,  0.1486,  0.0671,  0.0540,  0.1049,  0.1096, -0.1703],\n",
      "        [ 0.0188,  0.0225, -0.2277,  0.0500, -0.0031,  0.1828, -0.2250,  0.2217],\n",
      "        [-0.1153,  0.1389,  0.1741, -0.0292, -0.1206, -0.0391, -0.1470,  0.0291],\n",
      "        [ 0.0991,  0.0487, -0.1357,  0.1288,  0.2163, -0.0717,  0.1224, -0.0155],\n",
      "        [ 0.0950, -0.1681, -0.2013, -0.0067, -0.1986,  0.0849,  0.2206, -0.0462],\n",
      "        [ 0.0023,  0.0358, -0.1139, -0.0121,  0.0607,  0.1906, -0.1955, -0.0047],\n",
      "        [-0.1923, -0.0209, -0.0062, -0.0983,  0.1446,  0.1617, -0.0914, -0.0329],\n",
      "        [-0.0722,  0.0063,  0.0777,  0.2179, -0.2162,  0.0957, -0.1419, -0.1925],\n",
      "        [ 0.1815, -0.0702, -0.1322,  0.0647, -0.0490, -0.2157, -0.1229, -0.0996],\n",
      "        [-0.0184, -0.1556, -0.2270,  0.1311, -0.2024, -0.0285,  0.2023, -0.0868],\n",
      "        [-0.1559,  0.0629,  0.2057, -0.0260, -0.0139,  0.1101,  0.0295,  0.0452],\n",
      "        [ 0.1247,  0.1071, -0.1688, -0.0931,  0.1610,  0.0364,  0.0549,  0.2264],\n",
      "        [ 0.1459,  0.0941,  0.2255, -0.2073,  0.0366,  0.0615, -0.0410, -0.1107],\n",
      "        [ 0.0435, -0.1948, -0.1004,  0.1790, -0.0866, -0.0679,  0.1057, -0.0596],\n",
      "        [ 0.0346, -0.2356,  0.1342, -0.2097,  0.0314, -0.2338, -0.2023,  0.1896],\n",
      "        [-0.1298, -0.0081,  0.0105,  0.2169,  0.0752,  0.1151, -0.1008, -0.0808],\n",
      "        [ 0.1715,  0.0864,  0.0591, -0.1777, -0.1881,  0.0476, -0.1769,  0.1653],\n",
      "        [ 0.1964, -0.0976, -0.1519,  0.2282, -0.1258, -0.1879, -0.1711,  0.0409],\n",
      "        [ 0.0458,  0.1522,  0.1898,  0.1005,  0.0336,  0.2129, -0.0973, -0.0413],\n",
      "        [ 0.1996, -0.0793,  0.1264,  0.0505,  0.0832, -0.0539, -0.2008,  0.1690],\n",
      "        [ 0.1941, -0.1872, -0.1103,  0.0100,  0.1168, -0.0334, -0.1033,  0.1834],\n",
      "        [-0.1183,  0.2142,  0.0040,  0.1237,  0.0554,  0.0415,  0.1734, -0.0118],\n",
      "        [ 0.1663,  0.0778, -0.1316,  0.1545, -0.1675,  0.1227, -0.0505,  0.0731],\n",
      "        [-0.0282,  0.0466, -0.0712,  0.0977,  0.1100, -0.2156,  0.2078, -0.1901],\n",
      "        [-0.1052,  0.0928,  0.2172,  0.0766, -0.1315,  0.0415, -0.1415,  0.1109],\n",
      "        [ 0.0120,  0.0230, -0.1808,  0.1258,  0.2239, -0.1635,  0.0802, -0.1039],\n",
      "        [-0.0632,  0.2087, -0.2206, -0.0445,  0.0848,  0.1071, -0.0921, -0.1287],\n",
      "        [ 0.0475, -0.2146,  0.0313, -0.1491, -0.0431,  0.2122, -0.1957, -0.1166],\n",
      "        [-0.1813,  0.1405,  0.1947, -0.1524,  0.1487,  0.1510, -0.2025,  0.0804],\n",
      "        [ 0.1071, -0.0421,  0.1586, -0.0146, -0.0306,  0.1322, -0.2155, -0.2315],\n",
      "        [ 0.0438,  0.0260,  0.0167, -0.1444,  0.1878, -0.1457, -0.1042, -0.1989],\n",
      "        [-0.2347,  0.0570, -0.0950,  0.1443,  0.2275,  0.0766,  0.2061, -0.1641],\n",
      "        [ 0.1242,  0.1281, -0.0943, -0.0167, -0.1414,  0.0227, -0.2252, -0.1407],\n",
      "        [-0.2032, -0.0297,  0.0240, -0.1895, -0.0866,  0.1415,  0.0114,  0.0413],\n",
      "        [-0.1041, -0.0693, -0.2090,  0.2196,  0.0268,  0.1086,  0.1378,  0.2067],\n",
      "        [-0.1626,  0.0658, -0.2043,  0.0877, -0.1209,  0.0918, -0.1735,  0.1247],\n",
      "        [ 0.1688,  0.1296, -0.1979,  0.1474, -0.1496, -0.2205,  0.1534,  0.0401],\n",
      "        [-0.0821, -0.2060,  0.0606, -0.1019, -0.1869, -0.0296, -0.2007,  0.1161],\n",
      "        [-0.1553, -0.0802, -0.2332, -0.0328, -0.0728,  0.1301, -0.0533,  0.1587],\n",
      "        [ 0.2058,  0.0481, -0.0808, -0.1942, -0.1649, -0.0794, -0.1477,  0.1248],\n",
      "        [-0.0761, -0.0086,  0.0098, -0.2037,  0.1965, -0.0901, -0.1908, -0.0037],\n",
      "        [-0.2072,  0.0294, -0.1525, -0.0517, -0.0693,  0.1706,  0.1819,  0.2337],\n",
      "        [ 0.0260,  0.1503, -0.1934, -0.1581,  0.1268,  0.0518,  0.0652,  0.1347],\n",
      "        [ 0.1494,  0.1108, -0.0873, -0.0747,  0.0496,  0.1940, -0.0179, -0.0702],\n",
      "        [ 0.1302,  0.1563, -0.0044, -0.0697, -0.2348,  0.0145,  0.0723, -0.1730],\n",
      "        [-0.1750, -0.2356,  0.1842,  0.2210,  0.2333,  0.2104, -0.0248,  0.1048],\n",
      "        [ 0.1395, -0.0630, -0.1358,  0.1962, -0.0247,  0.0869, -0.1102, -0.1216],\n",
      "        [-0.0437,  0.0078,  0.1394,  0.1531, -0.0296,  0.2317, -0.1255,  0.0158],\n",
      "        [-0.1477,  0.0386,  0.2148, -0.1950,  0.0554, -0.2166, -0.0527, -0.1108],\n",
      "        [ 0.0004, -0.1636,  0.0599, -0.2224,  0.0517, -0.0909, -0.1411,  0.1998],\n",
      "        [ 0.0254, -0.1560, -0.1329, -0.1052, -0.1395,  0.0291,  0.0033,  0.2055],\n",
      "        [ 0.0069, -0.1257,  0.2027,  0.0593, -0.0509,  0.1654,  0.1932, -0.1984],\n",
      "        [-0.1944, -0.1550, -0.2027, -0.0707,  0.0863, -0.2150, -0.2304, -0.2030],\n",
      "        [-0.1230,  0.1478,  0.2090,  0.2342,  0.0026, -0.1996,  0.2299, -0.1584],\n",
      "        [ 0.0890,  0.1178,  0.0729,  0.0778, -0.2199, -0.0794, -0.1516,  0.1628],\n",
      "        [-0.1339, -0.0056,  0.2095,  0.1787, -0.1696, -0.1966,  0.1866,  0.0678],\n",
      "        [-0.1807,  0.2038, -0.1702,  0.2040,  0.1691,  0.1680, -0.0452,  0.0205],\n",
      "        [-0.1968,  0.1328,  0.0136,  0.1745, -0.0994,  0.2277,  0.1571, -0.0660],\n",
      "        [ 0.0644, -0.1719, -0.1569, -0.1615, -0.1354,  0.0655, -0.1016, -0.0814],\n",
      "        [ 0.1649,  0.0389, -0.1149, -0.0640, -0.0620,  0.1100,  0.1659,  0.1878],\n",
      "        [-0.1604, -0.0252,  0.0553, -0.0921,  0.1550, -0.0262,  0.0252, -0.2015],\n",
      "        [ 0.1703, -0.1562, -0.0057, -0.1923,  0.1793,  0.0136,  0.1061, -0.1853],\n",
      "        [ 0.0200,  0.0966,  0.1665,  0.1732, -0.0421, -0.0239,  0.0783, -0.0847],\n",
      "        [-0.0959, -0.2170, -0.2311, -0.1241,  0.0294,  0.0190,  0.0189,  0.0353],\n",
      "        [-0.0435, -0.2329,  0.2105, -0.1725, -0.0028,  0.0937,  0.0604, -0.1024],\n",
      "        [-0.2048,  0.1887,  0.0067,  0.2150,  0.1100,  0.1007,  0.0510, -0.0532],\n",
      "        [-0.1381,  0.0286,  0.2265,  0.1413,  0.2141,  0.2210,  0.1842, -0.1323],\n",
      "        [-0.1284, -0.0081, -0.1219, -0.0640, -0.0807,  0.2063, -0.0158,  0.2282],\n",
      "        [-0.1828, -0.2325,  0.0337,  0.0470, -0.0951, -0.1193,  0.0671,  0.0118],\n",
      "        [-0.0316,  0.1197, -0.1002,  0.1854, -0.1607, -0.1227,  0.0816,  0.1449],\n",
      "        [-0.0029, -0.1850, -0.0094, -0.0796, -0.0753, -0.0436,  0.0567, -0.0549],\n",
      "        [-0.1653, -0.1177, -0.1974, -0.2354,  0.1139,  0.1317,  0.1781,  0.0187]],\n",
      "       requires_grad=True)\n",
      "Parameter containing:\n",
      "tensor([[-0.0969, -0.1418,  0.1174,  ..., -0.1604,  0.0377,  0.2135],\n",
      "        [-0.1660,  0.2348, -0.1544,  ...,  0.2334, -0.1194,  0.1575],\n",
      "        [ 0.1438, -0.1534, -0.1901,  ...,  0.1140,  0.1521, -0.0248],\n",
      "        ...,\n",
      "        [-0.1272,  0.0587,  0.1356,  ..., -0.1678, -0.2324,  0.1114],\n",
      "        [-0.0253,  0.1069, -0.0120,  ...,  0.1608, -0.0133, -0.1697],\n",
      "        [ 0.0674, -0.0738, -0.0636,  ...,  0.0275, -0.1078,  0.1412]],\n",
      "       requires_grad=True)\n",
      "Parameter containing:\n",
      "tensor([-0.0892, -0.0211,  0.1237,  0.2166,  0.2002, -0.2216, -0.1652,  0.0402,\n",
      "        -0.0026,  0.1799,  0.1291, -0.1718,  0.2177,  0.0703,  0.1206, -0.0434,\n",
      "         0.1722, -0.1605,  0.1040,  0.2335,  0.0686, -0.0821,  0.0078,  0.1711,\n",
      "        -0.1368, -0.1177,  0.0376, -0.1024, -0.0643, -0.0846,  0.1290, -0.2029,\n",
      "        -0.2022,  0.1837, -0.0330, -0.2071,  0.1127, -0.1504, -0.0132,  0.1431,\n",
      "        -0.1328, -0.1812,  0.0330, -0.1157, -0.0551,  0.1717,  0.0495,  0.0674,\n",
      "        -0.2128, -0.1457, -0.1632,  0.2299, -0.0886,  0.2271,  0.2321, -0.1442,\n",
      "         0.1005, -0.0933,  0.2266,  0.1701,  0.0665,  0.1227, -0.0323, -0.0303,\n",
      "        -0.0318, -0.1083, -0.1981, -0.0311, -0.0714,  0.1926,  0.2153, -0.2102],\n",
      "       requires_grad=True)\n",
      "Parameter containing:\n",
      "tensor([-0.1870, -0.1159, -0.2302, -0.0172,  0.0619, -0.0250,  0.0571, -0.0398,\n",
      "        -0.2282, -0.1333, -0.2285, -0.1339, -0.1374,  0.1722, -0.0819, -0.0478,\n",
      "        -0.1826, -0.0777,  0.0317,  0.0517,  0.2137,  0.0976, -0.0201,  0.1741,\n",
      "        -0.1336, -0.0227,  0.0474,  0.0668, -0.0787,  0.0265,  0.0955, -0.0142,\n",
      "        -0.0767, -0.2143, -0.1424, -0.2348, -0.0452, -0.1874, -0.1059,  0.1855,\n",
      "        -0.2210,  0.1568, -0.0061, -0.1271,  0.2201,  0.1964, -0.1321,  0.0094,\n",
      "        -0.0973, -0.2194,  0.1223,  0.1282,  0.2012, -0.1422, -0.0633,  0.1242,\n",
      "        -0.1317,  0.2058,  0.0048,  0.0414,  0.0853,  0.1411,  0.0609, -0.1384,\n",
      "         0.2114, -0.1042,  0.0293, -0.2345, -0.1009,  0.1717,  0.0283,  0.0213],\n",
      "       requires_grad=True)\n",
      "Parameter containing:\n",
      "tensor([[-0.0905, -0.1916,  0.1767, -0.1610,  0.1705, -0.1352,  0.1933,  0.0088,\n",
      "         -0.1506,  0.2317,  0.1898, -0.1255, -0.1369, -0.0660, -0.0045,  0.1626,\n",
      "         -0.1440,  0.1142],\n",
      "        [ 0.2093,  0.0814, -0.0886,  0.2227, -0.0878,  0.0386, -0.1632,  0.0966,\n",
      "         -0.2311,  0.0849, -0.1708, -0.2232, -0.0902,  0.1731,  0.1093, -0.1939,\n",
      "          0.1239, -0.0600],\n",
      "        [-0.1115, -0.2238, -0.1170,  0.2214, -0.1454,  0.1643, -0.0823, -0.2178,\n",
      "         -0.1399,  0.0818,  0.1052,  0.0490,  0.0653, -0.0793, -0.0084,  0.0615,\n",
      "         -0.0305,  0.1867]], requires_grad=True)\n",
      "Parameter containing:\n",
      "tensor([0.2052, 0.2096, 0.2124], requires_grad=True)\n"
     ]
    }
   ],
   "source": [
    "for p in model.parameters():\n",
    "    print(p)"
   ]
  },
  {
   "cell_type": "code",
   "execution_count": 72,
   "id": "9df1da9e",
   "metadata": {},
   "outputs": [
    {
     "data": {
      "image/png": "[encoded data removed]",
      "text/plain": [
       "<Figure size 432x288 with 1 Axes>"
      ]
     },
     "metadata": {
      "needs_background": "light"
     },
     "output_type": "display_data"
    }
   ],
   "source": [
    "for epoch in range(100): \n",
    "    summary = 0\n",
    "    for i in range(10**2):\n",
    "        model.zero_grad()\n",
    "\n",
    "        sample = data.sample(batch_size)\n",
    "        inputs = torch.Tensor(to_matrix(sample.password.values)).long()\n",
    "        targets = torch.Tensor(sample.strength.values).long()\n",
    "\n",
    "        strength_scores = model(inputs)\n",
    "\n",
    "        loss = loss_function(strength_scores, targets)\n",
    "        loss.backward()\n",
    "        optimizer.step()\n",
    "        summary+=loss.data.numpy()\n",
    "    history.append(summary/10**2)  \n",
    "    clear_output(True)\n",
    "    plt.plot(history,label='loss')\n",
    "    plt.legend()\n",
    "    plt.show()"
   ]
  },
  {
   "cell_type": "code",
   "execution_count": 73,
   "id": "1d8724f1",
   "metadata": {},
   "outputs": [],
   "source": [
    "test_data = pd.read_pickle('test_data.pkl')\n",
    "with torch.no_grad():\n",
    "    inputs = torch.Tensor(to_matrix(test_data.password.values)).long()\n",
    "    strength_scores = model(inputs)"
   ]
  },
  {
   "cell_type": "code",
   "execution_count": 74,
   "id": "8215e3df",
   "metadata": {},
   "outputs": [],
   "source": [
    "strength_scores = strength_scores.data.numpy()"
   ]
  },
  {
   "cell_type": "code",
   "execution_count": 75,
   "id": "23f5fd75",
   "metadata": {},
   "outputs": [],
   "source": [
    "predictions = np.argmax(strength_scores, axis=1)\n",
    "y_test = test_data.strength.values"
   ]
  },
  {
   "cell_type": "code",
   "execution_count": 76,
   "id": "a52c5eb3",
   "metadata": {},
   "outputs": [
    {
     "data": {
      "text/plain": [
       "(0.9994622250438809, 0.9991705326659912, 0.9994358690631957, 0.998906848416424)"
      ]
     },
     "execution_count": 76,
     "metadata": {},
     "output_type": "execute_result"
    }
   ],
   "source": [
    "from sklearn import metrics\n",
    "accuracy = metrics.accuracy_score(y_test, predictions)\n",
    "f1_score = metrics.f1_score(y_test, predictions,average='macro')\n",
    "precision = metrics.precision_score(y_test, predictions,average='macro')\n",
    "recall = metrics.recall_score(y_test, predictions,average='macro')\n",
    "accuracy, f1_score, precision, recall"
   ]
  }
 ],
 "metadata": {
  "kernelspec": {
   "display_name": "Python [conda env:practical_rl]",
   "language": "python",
   "name": "conda-env-practical_rl-py"
  },
  "language_info": {
   "codemirror_mode": {
    "name": "ipython",
    "version": 3
   },
   "file_extension": ".py",
   "mimetype": "text/x-python",
   "name": "python",
   "nbconvert_exporter": "python",
   "pygments_lexer": "ipython3",
   "version": "3.9.10"
  }
 },
 "nbformat": 4,
 "nbformat_minor": 5
}
