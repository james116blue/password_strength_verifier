{
 "cells": [
  {
   "cell_type": "code",
   "execution_count": 1,
   "metadata": {},
   "outputs": [],
   "source": [
    "import random\n",
    "import time\n",
    "\n",
    "import numpy as np\n",
    "import pandas as pd\n",
    "\n",
    "from sklearn.feature_extraction.text import TfidfVectorizer\n",
    "from sklearn.experimental import enable_hist_gradient_boosting\n",
    "from sklearn import metrics\n",
    "from sklearn.model_selection import train_test_split\n",
    "from sklearn.linear_model import LogisticRegression\n",
    "from sklearn.svm import SVC\n",
    "from sklearn.ensemble import RandomForestClassifier, GradientBoostingClassifier, HistGradientBoostingClassifier\n",
    "from sklearn.model_selection import GridSearchCV\n",
    "\n",
    "from imblearn.under_sampling import RandomUnderSampler"
   ]
  },
  {
   "cell_type": "code",
   "execution_count": 3,
   "metadata": {},
   "outputs": [
    {
     "name": "stdout",
     "output_type": "stream",
     "text": [
      "669423\n"
     ]
    }
   ],
   "source": [
    "filepath = \"training(1).csv\" \n",
    "data = pd.read_csv(filepath,',',error_bad_lines=False)\n",
    "data = data.dropna()\n",
    "print(len(data))"
   ]
  },
  {
   "cell_type": "code",
   "execution_count": 4,
   "metadata": {},
   "outputs": [],
   "source": [
    "vectorizer = TfidfVectorizer(tokenizer=list)\n",
    "X = vectorizer.fit_transform(data.password.values)\n",
    "y = data.strength"
   ]
  },
  {
   "cell_type": "code",
   "execution_count": 164,
   "metadata": {},
   "outputs": [
    {
     "data": {
      "text/plain": [
       "(array([0, 1, 2]), array([89661, 83113, 83113]))"
      ]
     },
     "execution_count": 164,
     "metadata": {},
     "output_type": "execute_result"
    }
   ],
   "source": [
    "rus = RandomUnderSampler(sampling_strategy='majority', replacement=False, random_state=42)\n",
    "X_res, y_res = rus.fit_resample(X, y)\n",
    "np.unique(y_res, return_counts=True)"
   ]
  },
  {
   "cell_type": "code",
   "execution_count": 165,
   "metadata": {},
   "outputs": [],
   "source": [
    "X_train, X_test, y_train, y_test = train_test_split(X_res, y_res, test_size=0.2, random_state=42)  #splitting\n",
    "X_val, _, y_val, _  = train_test_split(X_train, y_train, train_size=10**4, random_state=42)  #splitting"
   ]
  },
  {
   "cell_type": "code",
   "execution_count": 173,
   "metadata": {},
   "outputs": [
    {
     "name": "stdout",
     "output_type": "stream",
     "text": [
      "CPU times: user 1min 36s, sys: 12.1 ms, total: 1min 37s\n",
      "Wall time: 1min 37s\n",
      "{'C': 1} 0.8057680129020733\n"
     ]
    }
   ],
   "source": [
    "clf = SVC()\n",
    "parameters = {'C': [0.1, 1, 10]}\n",
    "gcv = GridSearchCV(clf, parameters, scoring='f1_macro', refit=False, cv=5, return_train_score=True)\n",
    "get_ipython().run_line_magic('time', 'gcv.fit(X_val, y_val)')\n",
    "print(gcv.best_params_, gcv.best_score_)"
   ]
  },
  {
   "cell_type": "code",
   "execution_count": 174,
   "metadata": {},
   "outputs": [
    {
     "name": "stdout",
     "output_type": "stream",
     "text": [
      "CPU times: user 46 s, sys: 7.64 ms, total: 46 s\n",
      "Wall time: 46.1 s\n",
      "{'max_depth': 32} 0.9030542153586115\n"
     ]
    }
   ],
   "source": [
    "clf = RandomForestClassifier(random_state=42)\n",
    "parameters = {'max_depth': [2, 8, 32, 128, None]}\n",
    "gcv = GridSearchCV(clf, parameters, scoring='f1_macro', refit='f1_macro', cv=5, return_train_score=True)\n",
    "get_ipython().run_line_magic('time', 'gcv.fit(X_val, y_val)')\n",
    "print(gcv.best_params_, gcv.best_score_)"
   ]
  },
  {
   "cell_type": "code",
   "execution_count": 176,
   "metadata": {},
   "outputs": [
    {
     "name": "stdout",
     "output_type": "stream",
     "text": [
      "CPU times: user 18min 2s, sys: 20.2 s, total: 18min 23s\n",
      "Wall time: 1min 12s\n",
      "{'max_depth': 32} 0.9456354905962533\n"
     ]
    }
   ],
   "source": [
    "clf = HistGradientBoostingClassifier(random_state=42)\n",
    "parameters = {'max_depth': [2, 8, 32, 128, None]}\n",
    "gcv = GridSearchCV(clf, parameters, scoring='f1_macro', refit='f1_wf1_macroeighted', cv=5, return_train_score=True)\n",
    "get_ipython().run_line_magic('time', 'gcv.fit(X_val.toarray(), y_val)')\n",
    "print(gcv.best_params_, gcv.best_score_)"
   ]
  },
  {
   "cell_type": "code",
   "execution_count": 178,
   "metadata": {},
   "outputs": [],
   "source": [
    "model = HistGradientBoostingClassifier(random_state=42, max_depth=32)\n",
    "model.fit(X_train.toarray(), y_train)\n",
    "predictions = model.predict(X_test.toarray())"
   ]
  },
  {
   "cell_type": "code",
   "execution_count": 183,
   "metadata": {},
   "outputs": [
    {
     "data": {
      "text/plain": [
       "(0.9711985618820587,\n",
       " 0.9709798297247095,\n",
       " 0.9713967162151262,\n",
       " 0.9707985270967238)"
      ]
     },
     "execution_count": 183,
     "metadata": {},
     "output_type": "execute_result"
    }
   ],
   "source": [
    "accuracy = metrics.accuracy_score(y_test, predictions)\n",
    "f1_score = metrics.f1_score(y_test, predictions,average='macro')\n",
    "precision = metrics.precision_score(y_test, predictions,average='macro')\n",
    "recall = metrics.recall_score(y_test, predictions,average='macro')\n",
    "accuracy, f1_score, precision, recall"
   ]
  }
 ],
 "metadata": {
  "kernelspec": {
   "display_name": "Python 3 (ipykernel)",
   "language": "python",
   "name": "python3"
  },
  "language_info": {
   "codemirror_mode": {
    "name": "ipython",
    "version": 3
   },
   "file_extension": ".py",
   "mimetype": "text/x-python",
   "name": "python",
   "nbconvert_exporter": "python",
   "pygments_lexer": "ipython3",
   "version": "3.9.7"
  }
 },
 "nbformat": 4,
 "nbformat_minor": 4
}
