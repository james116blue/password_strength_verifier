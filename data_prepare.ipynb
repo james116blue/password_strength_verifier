{
 "cells": [
  {
   "cell_type": "code",
   "execution_count": 1,
   "id": "44b1e68f",
   "metadata": {},
   "outputs": [],
   "source": [
    "import numpy as np\n",
    "import pandas as pd\n",
    "import matplotlib\n",
    "import matplotlib.pyplot as plt\n",
    "from sklearn.model_selection import train_test_split\n",
    "%matplotlib inline\n",
    "import warnings\n",
    "warnings.simplefilter(action='ignore', category=FutureWarning)\n",
    "%matplotlib inline\n",
    "np.set_printoptions(precision=5,suppress=True)\n",
    "font = {\n",
    "#     'family' : 'normal',\n",
    "        'weight' : 'normal',\n",
    "        'size'   : 22}\n",
    "\n",
    "matplotlib.rc('font', **font)"
   ]
  },
  {
   "cell_type": "code",
   "execution_count": 2,
   "id": "de48d1a7",
   "metadata": {},
   "outputs": [
    {
     "name": "stdout",
     "output_type": "stream",
     "text": [
      "669423\n"
     ]
    }
   ],
   "source": [
    "filepath = \"training(1).csv\" \n",
    "data = pd.read_csv(filepath,',',error_bad_lines=False)\n",
    "data = data.dropna()\n",
    "print(len(data))"
   ]
  },
  {
   "cell_type": "code",
   "execution_count": 8,
   "id": "e93e8bc2",
   "metadata": {},
   "outputs": [
    {
     "name": "stdout",
     "output_type": "stream",
     "text": [
      "         index password  strength\n",
      "359319  359456  wewes19         0\n",
      "142007  142069  asdas95         0\n",
      "         index    password  strength\n",
      "530443  530640    oyeleye1         1\n",
      "425288  425448  80188063JA         1\n",
      "         index          password  strength\n",
      "271676  271787  JFRTgxTQyNQTh9ZD         2\n",
      "183959  184033  d7a6AoTMxMw0dLVy         2\n"
     ]
    }
   ],
   "source": [
    "for strength in range(3):\n",
    "    print(data[data.strength==strength].sample(2))"
   ]
  },
  {
   "cell_type": "code",
   "execution_count": 9,
   "id": "350a1c4c",
   "metadata": {},
   "outputs": [
    {
     "name": "stdout",
     "output_type": "stream",
     "text": [
      "max length = 220\n",
      "max length = 1\n"
     ]
    },
    {
     "data": {
      "image/png": "[encoded data removed]",
      "text/plain": [
       "<Figure size 432x288 with 1 Axes>"
      ]
     },
     "metadata": {
      "needs_background": "light"
     },
     "output_type": "display_data"
    }
   ],
   "source": [
    "MAX_LENGTH = max(map(len, data.password))\n",
    "MIN_LENGTH = min(map(len, data.password))\n",
    "print(\"max length =\", MAX_LENGTH)\n",
    "print(\"max length =\", MIN_LENGTH)\n",
    "\n",
    "n, bins, patches =  plt.hist(list(map(len, data.password)),bins=25, range=(MIN_LENGTH, 30) );\n",
    "plt.xlabel('Длина пароля')\n",
    "plt.show()"
   ]
  },
  {
   "cell_type": "code",
   "execution_count": 3,
   "id": "be74de9b",
   "metadata": {},
   "outputs": [],
   "source": [
    "import seaborn as sns"
   ]
  },
  {
   "cell_type": "code",
   "execution_count": 4,
   "id": "9d9b190d",
   "metadata": {},
   "outputs": [
    {
     "name": "stdout",
     "output_type": "stream",
     "text": [
      "n_letters =  200\n",
      "vocab_size= 201\n"
     ]
    }
   ],
   "source": [
    "all_letters = list(set(''.join(data.password)))\n",
    "n_letters = len(all_letters)\n",
    "vocab = ['<pad>'] + all_letters\n",
    "vocab_size = len(vocab)\n",
    "letter_id_dict = {k:v for (v,k) in enumerate(vocab)}\n",
    "print ('n_letters = ', n_letters)\n",
    "print('vocab_size=',  vocab_size)"
   ]
  },
  {
   "cell_type": "code",
   "execution_count": 5,
   "id": "712975cf",
   "metadata": {},
   "outputs": [
    {
     "data": {
      "text/plain": [
       "46336"
      ]
     },
     "execution_count": 5,
     "metadata": {},
     "output_type": "execute_result"
    }
   ],
   "source": [
    "string = ''.join(data.password[data.strength==0].values)\n",
    "string.count('a')"
   ]
  },
  {
   "cell_type": "code",
   "execution_count": null,
   "id": "0d97b133",
   "metadata": {},
   "outputs": [],
   "source": [
    "import pickle\n",
    "with open('letter_id_dict.pkl', 'wb') as f:\n",
    "    pickle.dump(letter_id_dict, f)"
   ]
  },
  {
   "cell_type": "code",
   "execution_count": null,
   "id": "e3c37650",
   "metadata": {},
   "outputs": [],
   "source": [
    "data = data.sample(frac=1)\n",
    "train_data, test_data = train_test_split(data, \n",
    "                                         stratify=data.strength, \n",
    "                                         test_size=0.2)"
   ]
  },
  {
   "cell_type": "code",
   "execution_count": null,
   "id": "bb7dd113",
   "metadata": {},
   "outputs": [],
   "source": [
    "print(len(train_data), len(test_data))"
   ]
  },
  {
   "cell_type": "code",
   "execution_count": null,
   "id": "80956a60",
   "metadata": {},
   "outputs": [],
   "source": [
    "print(np.unique(train_data.strength.values, return_counts=True)[1]/len(train_data),\n",
    "      np.unique(test_data.strength.values, return_counts=True)[1]/len(test_data))"
   ]
  },
  {
   "cell_type": "code",
   "execution_count": null,
   "id": "12b78ff6",
   "metadata": {},
   "outputs": [],
   "source": [
    "train_data.to_pickle('train_data.pkl') \n",
    "test_data.to_pickle('test_data.pkl') "
   ]
  },
  {
   "cell_type": "code",
   "execution_count": 6,
   "id": "72665c4b",
   "metadata": {},
   "outputs": [],
   "source": [
    "data['len'] = data.password.apply(len)"
   ]
  },
  {
   "cell_type": "code",
   "execution_count": 7,
   "id": "15a77404",
   "metadata": {},
   "outputs": [
    {
     "data": {
      "text/plain": [
       "Text(0, 0.5, 'Длина пароля')"
      ]
     },
     "execution_count": 7,
     "metadata": {},
     "output_type": "execute_result"
    },
    {
     "data": {
      "image/png": "[encoded data removed]",
      "text/plain": [
       "<Figure size 720x576 with 1 Axes>"
      ]
     },
     "metadata": {
      "needs_background": "light"
     },
     "output_type": "display_data"
    }
   ],
   "source": [
    "plt.figure(figsize=(10, 8))\n",
    "sns.boxplot(x=\"strength\", \n",
    "            y=\"len\", \n",
    "            data=data)\n",
    "plt.xlabel(\"Стойкость пароля\", size=22)\n",
    "plt.ylabel(\"Длина пароля\", size=22)"
   ]
  }
 ],
 "metadata": {
  "kernelspec": {
   "display_name": "Python [conda env:practical_rl]",
   "language": "python",
   "name": "conda-env-practical_rl-py"
  },
  "language_info": {
   "codemirror_mode": {
    "name": "ipython",
    "version": 3
   },
   "file_extension": ".py",
   "mimetype": "text/x-python",
   "name": "python",
   "nbconvert_exporter": "python",
   "pygments_lexer": "ipython3",
   "version": "3.9.10"
  }
 },
 "nbformat": 4,
 "nbformat_minor": 5
}
